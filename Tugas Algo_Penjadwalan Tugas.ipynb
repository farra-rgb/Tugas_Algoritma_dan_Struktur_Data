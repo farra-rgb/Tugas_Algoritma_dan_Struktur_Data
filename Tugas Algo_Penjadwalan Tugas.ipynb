{
  "cells": [
    {
      "cell_type": "code",
      "execution_count": null,
      "metadata": {
        "colab": {
          "base_uri": "https://localhost:8080/"
        },
        "id": "2Ik-XKVr_B4z",
        "outputId": "d7d616cf-14dd-4084-9753-5b5f0c097d4c"
      },
      "outputs": [
        {
          "name": "stdout",
          "output_type": "stream",
          "text": [
            "\n",
            "Menu Sistem Penjadwalan Tugas:\n",
            "1. Tambahkan Tugas\n",
            "2. Proses Tugas\n",
            "3. Tampilkan Daftar Tugas\n",
            "4. Status Tugas\n",
            "5. Keluar\n",
            "Masukkan Pilihan: 1\n",
            "Nama Tugas: 1\n",
            "Prioritas (angka, lebih kecil = lebih penting): 1\n"
          ]
        }
      ],
      "source": [
        "import heapq\n",
        "from datetime import datetime\n",
        "\n",
        "class TaskScheduler:\n",
        "    def __init__(self):\n",
        "        self.task_queue = []  # prioritas queue untuk menyimpan tugas\n",
        "\n",
        "    def add_task(self, nama, prioritas, due_date):\n",
        "        \"\"\"\n",
        "        Tambahkan tugas ke dalam sistem.\n",
        "        :param nama: Nama tugas\n",
        "        :param prioritas: Prioritas tugas (angka lebih kecil = prioritas lebih tinggi)\n",
        "        :param due_date: Batas waktu tugas (format: YYYY-MM-DD)\n",
        "        \"\"\"\n",
        "        # Konversi due_date menjadi objek datetime\n",
        "        due_date = datetime.strptime(due_date, \"%Y-%m-%d\")\n",
        "        # Tambahkan ke prioritas queue\n",
        "        heapq.heappush(self.task_queue, (prioritas, due_date, nama))\n",
        "        print(f\"Tugas '{nama}' berhasil ditambahkan!\")\n",
        "\n",
        "    def display_tasks(self):\n",
        "        \"\"\"\n",
        "        Tampilkan semua tugas berdasarkan prioritas.\n",
        "        \"\"\"\n",
        "        if not self.task_queue:\n",
        "            print(\"Tidak ada tugas yang dijadwalkan.\")\n",
        "            return\n",
        "\n",
        "        print(\"Daftar Tugas yang Dijadwalkan:\")\n",
        "        for prioritas, due_date, nama in sorted(self.task_queue):\n",
        "            print(f\"- {nama} (Prioritas: {prioritas}, Jatuh Tempo: {due_date.strftime('%Y-%m-%d')})\")\n",
        "\n",
        "    def process_task(self):\n",
        "        \"\"\"\n",
        "        Proses tugas dengan prioritas tertinggi.\n",
        "        \"\"\"\n",
        "        if not self.task_queue:\n",
        "            print(\"Tidak ada tugas untuk diproses.\")\n",
        "            return\n",
        "\n",
        "        # Ambil tugas dengan prioritas tertinggi\n",
        "        prioritas, due_date, nama = heapq.heappop(self.task_queue)\n",
        "        print(f\"Mengerjakan tugas: '{nama}' (Prioritas: {prioritas}, Jatuh Tempo: {due_date.strftime('%Y-%m-%d')})\")\n",
        "\n",
        "    def display_status(self):\n",
        "        \"\"\"\n",
        "        Tampilkan status tugas.\n",
        "        \"\"\"\n",
        "        print(f\"Tugas Tersisa: {len(self.task_queue)}\")\n",
        "\n",
        "# Main Program\n",
        "scheduler = TaskScheduler()\n",
        "\n",
        "while True:\n",
        "    print(\"\\nMenu Sistem Penjadwalan Tugas:\")\n",
        "    print(\"1. Tambahkan Tugas\")\n",
        "    print(\"2. Proses Tugas\")\n",
        "    print(\"3. Tampilkan Daftar Tugas\")\n",
        "    print(\"4. Status Tugas\")\n",
        "    print(\"5. Keluar\")\n",
        "    choice = input(\"Masukkan Pilihan: \")\n",
        "\n",
        "    if choice == \"1\":\n",
        "        nama = input(\"Nama Tugas: \")\n",
        "        prioritas = int(input(\"Prioritas (angka, lebih kecil = lebih penting): \"))\n",
        "        due_date = input(\"Batas Waktu (format: YYYY-MM-DD): \")\n",
        "        scheduler.add_task(nama, prioritas, due_date)\n",
        "    elif choice == \"2\":\n",
        "        scheduler.process_task()\n",
        "    elif choice == \"3\":\n",
        "        scheduler.display_tasks()\n",
        "    elif choice == \"4\":\n",
        "        scheduler.display_status()\n",
        "    elif choice == \"5\":\n",
        "        print(\"Keluar dari sistem. Terima kasih!\")\n",
        "        break\n",
        "    else:\n",
        "        print(\"Pilihan tidak valid. Coba lagi.\")\n"
      ]
    }
  ],
  "metadata": {
    "colab": {
      "provenance": []
    },
    "kernelspec": {
      "display_name": "Python 3",
      "name": "python3"
    },
    "language_info": {
      "name": "python"
    }
  },
  "nbformat": 4,
  "nbformat_minor": 0
}